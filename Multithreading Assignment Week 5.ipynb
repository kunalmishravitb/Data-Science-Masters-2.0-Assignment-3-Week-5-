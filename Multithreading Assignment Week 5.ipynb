{
 "cells": [
  {
   "cell_type": "markdown",
   "id": "329ed962",
   "metadata": {},
   "source": [
    "## Q1. What is multithreading in python? Why is it used? Name the module used to handle threads in python."
   ]
  },
  {
   "cell_type": "markdown",
   "id": "a05bb79f",
   "metadata": {},
   "source": [
    "Multithreading in Python refers to the concurrent execution of multiple threads within a single program. A thread is a lightweight unit of execution that can run concurrently with other threads, sharing the same memory space. Multithreading is used to achieve parallelism, allowing different tasks to be executed simultaneously, improving performance and responsiveness in certain scenarios. The 'threading' module is used to handle threads in Python."
   ]
  },
  {
   "cell_type": "markdown",
   "id": "f22d96f0",
   "metadata": {},
   "source": [
    "## Q2. Why threading module used? Write the use of the following functions: 1.activeCount() 2.currentThread() 3.enumerate()"
   ]
  },
  {
   "cell_type": "markdown",
   "id": "4a4e0a32",
   "metadata": {},
   "source": [
    "The 'threading' module in Python provides functions to manage threads. Here are the use cases of some of these functions:\n",
    "1. activeCount(): This function returns the number of Thread objects currently alive.\n",
    "\n",
    "2. currentThread(): This function returns the Thread object representing the current thread.\n",
    "\n",
    "3. enumerate(): This function returns a list of all Thread objects currently alive."
   ]
  },
  {
   "cell_type": "markdown",
   "id": "60fdcaf1",
   "metadata": {},
   "source": [
    "## Q3. Explain the following functions: 1.run() 2.start() 3.join() 4.isAlive()"
   ]
  },
  {
   "cell_type": "markdown",
   "id": "89d5ff2d",
   "metadata": {},
   "source": [
    "1. run(): This method defines the entry point for the thread's activity. It is called when the thread is started using the start() method. You can override this method in a subclass to define the behavior of the thread.\n",
    "\n",
    "2. start(): This method starts the execution of the thread. It invokes the run() method of the thread. Once started, the thread will run concurrently with other threads.\n",
    "\n",
    "3. join(): This method blocks the calling thread until the thread on which it is called has finished executing. It is used to synchronize the execution of multiple threads.\n",
    "\n",
    "4. isAlive(): This method returns a boolean value indicating whether the thread is currently executing (True) or has finished executing (False)."
   ]
  },
  {
   "cell_type": "markdown",
   "id": "c42ae6ae",
   "metadata": {},
   "source": [
    "## Q4. Write a python program to create two threads. Thread one must print the list of squares and thread two must print the list of cubes."
   ]
  },
  {
   "cell_type": "markdown",
   "id": "bfc564d9",
   "metadata": {},
   "source": [
    "Here's a Python program that creates two threads. One thread prints the list of squares, and the other thread prints the list of cubes:"
   ]
  },
  {
   "cell_type": "code",
   "execution_count": 1,
   "id": "d281e37b",
   "metadata": {},
   "outputs": [
    {
     "name": "stdout",
     "output_type": "stream",
     "text": [
      "Square of 1 is 1\n",
      "Square of 2 is 4\n",
      "Square of 3 is 9\n",
      "Square of 4 is 16\n",
      "Square of 5 is 25\n",
      "Cube of 1 is 1\n",
      "Cube of 2 is 8\n",
      "Cube of 3 is 27\n",
      "Cube of 4 is 64\n",
      "Cube of 5 is 125\n"
     ]
    }
   ],
   "source": [
    "import threading\n",
    "\n",
    "def print_squares():\n",
    "    for i in range(1, 6):\n",
    "        print(f\"Square of {i} is {i ** 2}\")\n",
    "\n",
    "def print_cubes():\n",
    "    for i in range(1, 6):\n",
    "        print(f\"Cube of {i} is {i ** 3}\")\n",
    "\n",
    "# Main program\n",
    "thread1 = threading.Thread(target=print_squares)\n",
    "thread2 = threading.Thread(target=print_cubes)\n",
    "\n",
    "thread1.start()\n",
    "thread2.start()\n",
    "\n",
    "thread1.join()\n",
    "thread2.join()"
   ]
  },
  {
   "cell_type": "markdown",
   "id": "2d26a334",
   "metadata": {},
   "source": [
    "## Q5. State advantages and disadvantages of multithreading."
   ]
  },
  {
   "cell_type": "markdown",
   "id": "033607b5",
   "metadata": {},
   "source": [
    "Advantages of multithreading:\n",
    "\n",
    "(1) Improved performance and responsiveness: Multithreading allows multiple tasks to execute simultaneously, utilizing available CPU resources more efficiently and potentially reducing overall execution time.\n",
    "\n",
    "(2) Better resource utilization: Multithreading can make better use of system resources by efficiently sharing memory and CPU time between threads, reducing the overall resource footprint of a program.\n",
    "\n",
    "(3) Enhanced concurrency: Multithreading enables concurrent execution of tasks, making it suitable for handling parallelizable tasks such as I/O operations or independent computations.\n",
    "\n",
    "Disadvantages of multithreading:\n",
    "\n",
    "(1) Complexity: Multithreaded programs can be more complex to design, implement, and debug compared to single-threaded programs. Synchronization and coordination between threads can introduce issues like race conditions and deadlocks.\n",
    "\n",
    "(2) Increased overhead: Thread creation, context switching, and synchronization mechanisms incur additional overhead compared to single-threaded programs. This overhead can be significant for programs with many threads or in situations where threads frequently interact or share resources.\n",
    "\n",
    "(3) Difficulty in debugging: Multithreaded programs can be harder to debug due to non-deterministic behavior caused by race conditions or timing-related issues. Debugging tools and techniques specific to multithreading are required to effectively diagnose and fix issues."
   ]
  },
  {
   "cell_type": "markdown",
   "id": "11afc475",
   "metadata": {},
   "source": [
    "## Q6. Explain deadlocks and race conditions."
   ]
  },
  {
   "cell_type": "markdown",
   "id": "acc9cc1c",
   "metadata": {},
   "source": [
    "Deadlocks and race conditions are common issues in concurrent programming:\n",
    "\n",
    "Deadlock: A deadlock occurs when two or more threads are blocked forever, waiting for each other to release resources that they hold. This situation arises when multiple threads compete for exclusive access to shared resources and each thread holds a resource while waiting for another resource that is held by a different thread. As a result, the threads are unable to make progress, leading to a deadlock.\n",
    "\n",
    "Race condition: A race condition occurs when the behavior or outcome of a program depends on the relative timing or interleaving of multiple threads. It arises when two or more threads access shared data concurrently, and at least one thread modifies the shared data. The exact sequence of thread execution determines the final outcome, and if the timing is not properly synchronized, it can lead to unexpected and incorrect results."
   ]
  }
 ],
 "metadata": {
  "kernelspec": {
   "display_name": "Python 3 (ipykernel)",
   "language": "python",
   "name": "python3"
  },
  "language_info": {
   "codemirror_mode": {
    "name": "ipython",
    "version": 3
   },
   "file_extension": ".py",
   "mimetype": "text/x-python",
   "name": "python",
   "nbconvert_exporter": "python",
   "pygments_lexer": "ipython3",
   "version": "3.10.0"
  }
 },
 "nbformat": 4,
 "nbformat_minor": 5
}
